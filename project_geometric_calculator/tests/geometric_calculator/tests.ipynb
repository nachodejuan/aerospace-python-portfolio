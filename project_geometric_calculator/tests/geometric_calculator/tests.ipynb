{
 "cells": [
  {
   "cell_type": "markdown",
   "id": "0a2865fa",
   "metadata": {},
   "source": [
    "# 🔬 Geometric Calculator Performance Testing\n",
    "## Performance Analysis and Decorator Demonstration"
   ]
  },
  {
   "cell_type": "code",
   "execution_count": null,
   "id": "a24faed7",
   "metadata": {},
   "outputs": [
    {
     "name": "stdout",
     "output_type": "stream",
     "text": [
      "Project Root: c:\\Users\\Public\\aerospace-python-portfolio\\project_geometric_calculator\n",
      "Source Path: c:\\Users\\Public\\aerospace-python-portfolio\\project_geometric_calculator\\src\n",
      "Python Path: ['c:\\\\Users\\\\Public\\\\aerospace-python-portfolio\\\\project_geometric_calculator\\\\src', 'c:\\\\Users\\\\Public\\\\aerospace-python-portfolio\\\\project_geometric_calculator\\\\src', 'c:\\\\Users\\\\Public\\\\aerospace-python-portfolio\\\\project_geometric_calculator\\\\tests\\\\geometric_calculator', 'c:\\\\Program Files\\\\Python310\\\\python310.zip', 'c:\\\\Program Files\\\\Python310\\\\DLLs', 'c:\\\\Program Files\\\\Python310\\\\lib', 'c:\\\\Program Files\\\\Python310', '', 'C:\\\\Users\\\\34610\\\\AppData\\\\Roaming\\\\Python\\\\Python310\\\\site-packages', 'C:\\\\Users\\\\34610\\\\AppData\\\\Roaming\\\\Python\\\\Python310\\\\site-packages\\\\win32', 'C:\\\\Users\\\\34610\\\\AppData\\\\Roaming\\\\Python\\\\Python310\\\\site-packages\\\\win32\\\\lib', 'C:\\\\Users\\\\34610\\\\AppData\\\\Roaming\\\\Python\\\\Python310\\\\site-packages\\\\Pythonwin', 'c:\\\\Program Files\\\\Python310\\\\lib\\\\site-packages']\n"
     ]
    }
   ],
   "source": [
    "import sys\n",
    "import os\n",
    "from typing import List\n",
    "\n",
    "# Get project root dynamically\n",
    "project_root = os.path.abspath(os.path.join(os.path.dirname(os.getcwd()), '..'))\n",
    "src_path = os.path.join(project_root, 'src')\n",
    "\n",
    "# Add src to Python path\n",
    "sys.path.insert(0, src_path)\n",
    "\n",
    "# Diagnostic print\n",
    "print(f\"Project Root: {project_root}\")\n",
    "print(f\"Source Path: {src_path}\")\n",
    "print(f\"Python Path: {sys.path}\")"
   ]
  },
  {
   "cell_type": "code",
   "execution_count": 8,
   "id": "689bd77f",
   "metadata": {},
   "outputs": [
    {
     "name": "stdout",
     "output_type": "stream",
     "text": [
      "✅ Imports Successful\n"
     ]
    }
   ],
   "source": [
    "# Verify imports\n",
    "try:\n",
    "    from geometric_calculator.geometric_calculator import Circle\n",
    "    from geometric_calculator.decorators import timer\n",
    "    print(\"✅ Imports Successful\")\n",
    "except ImportError as e:\n",
    "    print(f\"❌ Import Error: {e}\")"
   ]
  },
  {
   "cell_type": "code",
   "execution_count": 9,
   "id": "6d5df7df",
   "metadata": {},
   "outputs": [],
   "source": [
    "class ShapePerformanceTest:\n",
    "    \"\"\"Performance testing for geometric shapes\"\"\"\n",
    "    \n",
    "    @timer\n",
    "    def test_circle_creation(self, radius: float) -> Circle:\n",
    "        \"\"\"Test circle object creation performance\"\"\"\n",
    "        return Circle(radius)\n",
    "    \n",
    "    @timer\n",
    "    def test_multiple_circle_creations(self, radii: List[float]) -> List[Circle]:\n",
    "        \"\"\"Test bulk circle creation performance\"\"\"\n",
    "        return [Circle(r) for r in radii]\n",
    "    \n",
    "    @timer\n",
    "    def test_circle_area_calculation(self, circle: Circle) -> float:\n",
    "        \"\"\"Test area calculation performance\"\"\"\n",
    "        return circle.area()\n",
    "    \n",
    "    @timer\n",
    "    def test_circle_perimeter_calculation(self, circle: Circle) -> float:\n",
    "        \"\"\"Test perimeter calculation performance\"\"\"\n",
    "        return circle.perimeter()"
   ]
  },
  {
   "cell_type": "markdown",
   "id": "89989f78",
   "metadata": {},
   "source": [
    "## 🚀 Performance Testing Demonstration"
   ]
  },
  {
   "cell_type": "code",
   "execution_count": 14,
   "id": "35c54ce1",
   "metadata": {},
   "outputs": [
    {
     "name": "stdout",
     "output_type": "stream",
     "text": [
      "\n",
      "🔬 Generating 234591 Circles with Random Radii\n",
      "\n",
      "🔬 Large-Scale Circle Creation Performance Test\n",
      "[PERFORMANCE] test_multiple_circle_creations executed in 0.377229 seconds\n",
      "\n",
      "🔬 Area Calculation Performance Test\n",
      "[PERFORMANCE] calculate_total_area executed in 0.091816 seconds\n",
      "\n",
      "🔬 Perimeter Calculation Performance Test\n",
      "[PERFORMANCE] calculate_total_perimeter executed in 0.059920 seconds\n",
      "\n",
      "📊 Performance Summary:\n",
      "Total Circles Generated: 234591\n",
      "Total Area: 27285410.19\n",
      "Total Perimeter: 8108161.50\n"
     ]
    }
   ],
   "source": [
    "import numpy as np\n",
    "\n",
    "# Initialize Performance Test\n",
    "performance_test = ShapePerformanceTest()\n",
    "\n",
    "# Random number of circles generation\n",
    "num_circles = np.random.randint(100000, 1000000)\n",
    "print(f\"\\n🔬 Generating {num_circles} Circles with Random Radii\")\n",
    "\n",
    "# Generate random radii between 1 and 10\n",
    "radii = np.random.uniform(1, 10, num_circles)\n",
    "\n",
    "# Multiple Circle Creation Test with Large Scale\n",
    "print(\"\\n🔬 Large-Scale Circle Creation Performance Test\")\n",
    "multiple_circles = performance_test.test_multiple_circle_creations(radii)\n",
    "\n",
    "# Separate Area Calculation Performance Test\n",
    "print(\"\\n🔬 Area Calculation Performance Test\")\n",
    "@timer\n",
    "def calculate_total_area(circles):\n",
    "    \"\"\"Calculate total area of multiple circles\"\"\"\n",
    "    return sum(circle.area() for circle in circles)\n",
    "\n",
    "total_area = calculate_total_area(multiple_circles)\n",
    "\n",
    "# Separate Perimeter Calculation Performance Test\n",
    "print(\"\\n🔬 Perimeter Calculation Performance Test\")\n",
    "@timer\n",
    "def calculate_total_perimeter(circles):\n",
    "    \"\"\"Calculate total perimeter of multiple circles\"\"\"\n",
    "    return sum(circle.perimeter() for circle in circles)\n",
    "\n",
    "total_perimeter = calculate_total_perimeter(multiple_circles)\n",
    "\n",
    "# Additional Performance Insights\n",
    "print(\"\\n📊 Performance Summary:\")\n",
    "print(f\"Total Circles Generated: {num_circles}\")\n",
    "print(f\"Total Area: {total_area:.2f}\")\n",
    "print(f\"Total Perimeter: {total_perimeter:.2f}\")"
   ]
  },
  {
   "cell_type": "markdown",
   "id": "e307af14",
   "metadata": {},
   "source": [
    "## 📊 Performance Analysis Insights\n",
    "\n",
    "- Execution times for different geometric operations\n",
    "- Detailed metrics for circle creation and calculations\n",
    "- Easy to extend and customize performance tracking"
   ]
  }
 ],
 "metadata": {
  "kernelspec": {
   "display_name": "Python 3",
   "language": "python",
   "name": "python3"
  },
  "language_info": {
   "name": "python",
   "version": "3.8.5"
  }
 },
 "nbformat": 4,
 "nbformat_minor": 5
}
